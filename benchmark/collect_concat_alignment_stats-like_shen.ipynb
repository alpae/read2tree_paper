{
 "cells": [
  {
   "cell_type": "code",
   "execution_count": 1,
   "metadata": {},
   "outputs": [],
   "source": [
    "import pandas as pd\n",
    "import numpy as np\n",
    "import os, glob, tqdm\n",
    "from Bio import AlignIO, SeqIO\n",
    "from scipy.spatial import distance\n",
    "from matplotlib import rc\n",
    "from tqdm.notebook import trange, tqdm\n",
    "\n",
    "\n",
    "%matplotlib inline\n",
    "\n",
    "# The following %config line changes the inline figures to have a higher DPI.\n",
    "# You can comment out (#) this line if you don't have a high-DPI (~220) display.\n",
    "%config InlineBackend.figure_format = 'retina'\n",
    "# Set the global font to be DejaVu Sans, size 10 (or any other sans-serif font of your choice!)\n",
    "rc('font',**{'family':'sans-serif','sans-serif':['DejaVu Sans'],'size':12})"
   ]
  },
  {
   "cell_type": "code",
   "execution_count": 2,
   "metadata": {},
   "outputs": [],
   "source": [
    "species = ['yeast', 'arath', 'mouse']\n",
    "coverage = {'02X':0.2, '05X':0.5, '1X':1, '5X':5, '10X':10, '20X':20}\n",
    "base_folder = '/Volumes/RECHERCHE/FAC/FBM/DBC/cdessim2/read2tree/D2c/r2t/'\n"
   ]
  },
  {
   "cell_type": "code",
   "execution_count": 3,
   "metadata": {},
   "outputs": [
    {
     "data": {
      "application/vnd.jupyter.widget-view+json": {
       "model_id": "bcc7bc12661f4c8285d3daf582999284",
       "version_major": 2,
       "version_minor": 0
      },
      "text/plain": [
       "  0%|          | 0/63 [00:00<?, ?it/s]"
      ]
     },
     "metadata": {},
     "output_type": "display_data"
    },
    {
     "data": {
      "application/vnd.jupyter.widget-view+json": {
       "model_id": "11c6acd6890d4747a6cd6ab4d80a0fe1",
       "version_major": 2,
       "version_minor": 0
      },
      "text/plain": [
       "  0%|          | 0/63 [00:00<?, ?it/s]"
      ]
     },
     "metadata": {},
     "output_type": "display_data"
    },
    {
     "data": {
      "application/vnd.jupyter.widget-view+json": {
       "model_id": "8493c7b6f3744948945b6b4c0a25196c",
       "version_major": 2,
       "version_minor": 0
      },
      "text/plain": [
       "  0%|          | 0/63 [00:00<?, ?it/s]"
      ]
     },
     "metadata": {},
     "output_type": "display_data"
    },
    {
     "ename": "OSError",
     "evalue": "[Errno 5] Input/output error",
     "output_type": "error",
     "traceback": [
      "\u001b[0;31m---------------------------------------------------------------------------\u001b[0m",
      "\u001b[0;31mOSError\u001b[0m                                   Traceback (most recent call last)",
      "\u001b[0;32m/var/folders/n_/0v2fhd8n3js31980d6lyv26r0000gn/T/ipykernel_19788/3830044009.py\u001b[0m in \u001b[0;36m<module>\u001b[0;34m\u001b[0m\n\u001b[1;32m      8\u001b[0m         \u001b[0mtech\u001b[0m \u001b[0;34m=\u001b[0m \u001b[0mfile_name\u001b[0m\u001b[0;34m[\u001b[0m\u001b[0;36m4\u001b[0m\u001b[0;34m]\u001b[0m\u001b[0;34m[\u001b[0m\u001b[0;36m0\u001b[0m\u001b[0;34m:\u001b[0m\u001b[0;36m3\u001b[0m\u001b[0;34m]\u001b[0m\u001b[0;34m\u001b[0m\u001b[0;34m\u001b[0m\u001b[0m\n\u001b[1;32m      9\u001b[0m         \u001b[0mcov\u001b[0m \u001b[0;34m=\u001b[0m \u001b[0mcoverage\u001b[0m\u001b[0;34m[\u001b[0m\u001b[0mfile_name\u001b[0m\u001b[0;34m[\u001b[0m\u001b[0;36m4\u001b[0m\u001b[0;34m]\u001b[0m\u001b[0;34m[\u001b[0m\u001b[0;36m3\u001b[0m\u001b[0;34m:\u001b[0m\u001b[0;34m]\u001b[0m\u001b[0;34m]\u001b[0m\u001b[0;34m\u001b[0m\u001b[0;34m\u001b[0m\u001b[0m\n\u001b[0;32m---> 10\u001b[0;31m         \u001b[0malignment\u001b[0m \u001b[0;34m=\u001b[0m \u001b[0mAlignIO\u001b[0m\u001b[0;34m.\u001b[0m\u001b[0mread\u001b[0m\u001b[0;34m(\u001b[0m\u001b[0malignment\u001b[0m\u001b[0;34m,\u001b[0m \u001b[0;34m'fasta'\u001b[0m\u001b[0;34m)\u001b[0m\u001b[0;34m\u001b[0m\u001b[0;34m\u001b[0m\u001b[0m\n\u001b[0m\u001b[1;32m     11\u001b[0m         \u001b[0mseq_id\u001b[0m \u001b[0;34m=\u001b[0m \u001b[0;34m'_'\u001b[0m\u001b[0;34m.\u001b[0m\u001b[0mjoin\u001b[0m\u001b[0;34m(\u001b[0m\u001b[0;34m[\u001b[0m\u001b[0mstr\u001b[0m\u001b[0;34m(\u001b[0m\u001b[0midist\u001b[0m\u001b[0;34m)\u001b[0m\u001b[0;34m,\u001b[0m \u001b[0mtech\u001b[0m\u001b[0;34m]\u001b[0m\u001b[0;34m)\u001b[0m\u001b[0;34m\u001b[0m\u001b[0;34m\u001b[0m\u001b[0m\n\u001b[1;32m     12\u001b[0m \u001b[0;31m#         print(seq_id)\u001b[0m\u001b[0;34m\u001b[0m\u001b[0;34m\u001b[0m\u001b[0m\n",
      "\u001b[0;32m~/miniconda3/envs/r2t/lib/python3.10/site-packages/Bio/AlignIO/__init__.py\u001b[0m in \u001b[0;36mread\u001b[0;34m(handle, format, seq_count)\u001b[0m\n\u001b[1;32m    384\u001b[0m     \u001b[0miterator\u001b[0m \u001b[0;34m=\u001b[0m \u001b[0mparse\u001b[0m\u001b[0;34m(\u001b[0m\u001b[0mhandle\u001b[0m\u001b[0;34m,\u001b[0m \u001b[0mformat\u001b[0m\u001b[0;34m,\u001b[0m \u001b[0mseq_count\u001b[0m\u001b[0;34m)\u001b[0m\u001b[0;34m\u001b[0m\u001b[0;34m\u001b[0m\u001b[0m\n\u001b[1;32m    385\u001b[0m     \u001b[0;32mtry\u001b[0m\u001b[0;34m:\u001b[0m\u001b[0;34m\u001b[0m\u001b[0;34m\u001b[0m\u001b[0m\n\u001b[0;32m--> 386\u001b[0;31m         \u001b[0malignment\u001b[0m \u001b[0;34m=\u001b[0m \u001b[0mnext\u001b[0m\u001b[0;34m(\u001b[0m\u001b[0miterator\u001b[0m\u001b[0;34m)\u001b[0m\u001b[0;34m\u001b[0m\u001b[0;34m\u001b[0m\u001b[0m\n\u001b[0m\u001b[1;32m    387\u001b[0m     \u001b[0;32mexcept\u001b[0m \u001b[0mStopIteration\u001b[0m\u001b[0;34m:\u001b[0m\u001b[0;34m\u001b[0m\u001b[0;34m\u001b[0m\u001b[0m\n\u001b[1;32m    388\u001b[0m         \u001b[0;32mraise\u001b[0m \u001b[0mValueError\u001b[0m\u001b[0;34m(\u001b[0m\u001b[0;34m\"No records found in handle\"\u001b[0m\u001b[0;34m)\u001b[0m \u001b[0;32mfrom\u001b[0m \u001b[0;32mNone\u001b[0m\u001b[0;34m\u001b[0m\u001b[0;34m\u001b[0m\u001b[0m\n",
      "\u001b[0;32m~/miniconda3/envs/r2t/lib/python3.10/site-packages/Bio/AlignIO/__init__.py\u001b[0m in \u001b[0;36mparse\u001b[0;34m(handle, format, seq_count)\u001b[0m\n\u001b[1;32m    335\u001b[0m             \u001b[0;32mraise\u001b[0m \u001b[0mValueError\u001b[0m\u001b[0;34m(\u001b[0m\u001b[0;34m\"Unknown format '%s'\"\u001b[0m \u001b[0;34m%\u001b[0m \u001b[0mformat\u001b[0m\u001b[0;34m)\u001b[0m\u001b[0;34m\u001b[0m\u001b[0;34m\u001b[0m\u001b[0m\n\u001b[1;32m    336\u001b[0m \u001b[0;34m\u001b[0m\u001b[0m\n\u001b[0;32m--> 337\u001b[0;31m         \u001b[0;32myield\u001b[0m \u001b[0;32mfrom\u001b[0m \u001b[0mi\u001b[0m\u001b[0;34m\u001b[0m\u001b[0;34m\u001b[0m\u001b[0m\n\u001b[0m\u001b[1;32m    338\u001b[0m \u001b[0;34m\u001b[0m\u001b[0m\n\u001b[1;32m    339\u001b[0m \u001b[0;34m\u001b[0m\u001b[0m\n",
      "\u001b[0;32m~/miniconda3/envs/r2t/lib/python3.10/site-packages/Bio/AlignIO/__init__.py\u001b[0m in \u001b[0;36m_SeqIO_to_alignment_iterator\u001b[0;34m(handle, format, seq_count)\u001b[0m\n\u001b[1;32m    275\u001b[0m         \u001b[0;31m# Must assume that there is a single alignment using all\u001b[0m\u001b[0;34m\u001b[0m\u001b[0;34m\u001b[0m\u001b[0m\n\u001b[1;32m    276\u001b[0m         \u001b[0;31m# the SeqRecord objects:\u001b[0m\u001b[0;34m\u001b[0m\u001b[0;34m\u001b[0m\u001b[0m\n\u001b[0;32m--> 277\u001b[0;31m         \u001b[0mrecords\u001b[0m \u001b[0;34m=\u001b[0m \u001b[0mlist\u001b[0m\u001b[0;34m(\u001b[0m\u001b[0mSeqIO\u001b[0m\u001b[0;34m.\u001b[0m\u001b[0mparse\u001b[0m\u001b[0;34m(\u001b[0m\u001b[0mhandle\u001b[0m\u001b[0;34m,\u001b[0m \u001b[0mformat\u001b[0m\u001b[0;34m)\u001b[0m\u001b[0;34m)\u001b[0m\u001b[0;34m\u001b[0m\u001b[0;34m\u001b[0m\u001b[0m\n\u001b[0m\u001b[1;32m    278\u001b[0m         \u001b[0;32mif\u001b[0m \u001b[0mrecords\u001b[0m\u001b[0;34m:\u001b[0m\u001b[0;34m\u001b[0m\u001b[0;34m\u001b[0m\u001b[0m\n\u001b[1;32m    279\u001b[0m             \u001b[0;32myield\u001b[0m \u001b[0mMultipleSeqAlignment\u001b[0m\u001b[0;34m(\u001b[0m\u001b[0mrecords\u001b[0m\u001b[0;34m)\u001b[0m\u001b[0;34m\u001b[0m\u001b[0;34m\u001b[0m\u001b[0m\n",
      "\u001b[0;32m~/miniconda3/envs/r2t/lib/python3.10/site-packages/Bio/SeqIO/Interfaces.py\u001b[0m in \u001b[0;36m__next__\u001b[0;34m(self)\u001b[0m\n\u001b[1;32m     72\u001b[0m     \u001b[0;32mdef\u001b[0m \u001b[0m__next__\u001b[0m\u001b[0;34m(\u001b[0m\u001b[0mself\u001b[0m\u001b[0;34m)\u001b[0m\u001b[0;34m:\u001b[0m\u001b[0;34m\u001b[0m\u001b[0;34m\u001b[0m\u001b[0m\n\u001b[1;32m     73\u001b[0m         \u001b[0;32mtry\u001b[0m\u001b[0;34m:\u001b[0m\u001b[0;34m\u001b[0m\u001b[0;34m\u001b[0m\u001b[0m\n\u001b[0;32m---> 74\u001b[0;31m             \u001b[0;32mreturn\u001b[0m \u001b[0mnext\u001b[0m\u001b[0;34m(\u001b[0m\u001b[0mself\u001b[0m\u001b[0;34m.\u001b[0m\u001b[0mrecords\u001b[0m\u001b[0;34m)\u001b[0m\u001b[0;34m\u001b[0m\u001b[0;34m\u001b[0m\u001b[0m\n\u001b[0m\u001b[1;32m     75\u001b[0m         \u001b[0;32mexcept\u001b[0m \u001b[0mException\u001b[0m\u001b[0;34m:\u001b[0m\u001b[0;34m\u001b[0m\u001b[0;34m\u001b[0m\u001b[0m\n\u001b[1;32m     76\u001b[0m             \u001b[0;32mif\u001b[0m \u001b[0mself\u001b[0m\u001b[0;34m.\u001b[0m\u001b[0mshould_close_stream\u001b[0m\u001b[0;34m:\u001b[0m\u001b[0;34m\u001b[0m\u001b[0;34m\u001b[0m\u001b[0m\n",
      "\u001b[0;32m~/miniconda3/envs/r2t/lib/python3.10/site-packages/Bio/SeqIO/FastaIO.py\u001b[0m in \u001b[0;36miterate\u001b[0;34m(self, handle)\u001b[0m\n\u001b[1;32m    196\u001b[0m                 \u001b[0;32myield\u001b[0m \u001b[0mSeqRecord\u001b[0m\u001b[0;34m(\u001b[0m\u001b[0mSeq\u001b[0m\u001b[0;34m(\u001b[0m\u001b[0msequence\u001b[0m\u001b[0;34m)\u001b[0m\u001b[0;34m,\u001b[0m \u001b[0mid\u001b[0m\u001b[0;34m=\u001b[0m\u001b[0mid\u001b[0m\u001b[0;34m,\u001b[0m \u001b[0mname\u001b[0m\u001b[0;34m=\u001b[0m\u001b[0mname\u001b[0m\u001b[0;34m,\u001b[0m \u001b[0mdescription\u001b[0m\u001b[0;34m=\u001b[0m\u001b[0mdescr\u001b[0m\u001b[0;34m)\u001b[0m\u001b[0;34m\u001b[0m\u001b[0;34m\u001b[0m\u001b[0m\n\u001b[1;32m    197\u001b[0m         \u001b[0;32melse\u001b[0m\u001b[0;34m:\u001b[0m\u001b[0;34m\u001b[0m\u001b[0;34m\u001b[0m\u001b[0m\n\u001b[0;32m--> 198\u001b[0;31m             \u001b[0;32mfor\u001b[0m \u001b[0mtitle\u001b[0m\u001b[0;34m,\u001b[0m \u001b[0msequence\u001b[0m \u001b[0;32min\u001b[0m \u001b[0mSimpleFastaParser\u001b[0m\u001b[0;34m(\u001b[0m\u001b[0mhandle\u001b[0m\u001b[0;34m)\u001b[0m\u001b[0;34m:\u001b[0m\u001b[0;34m\u001b[0m\u001b[0;34m\u001b[0m\u001b[0m\n\u001b[0m\u001b[1;32m    199\u001b[0m                 \u001b[0;32mtry\u001b[0m\u001b[0;34m:\u001b[0m\u001b[0;34m\u001b[0m\u001b[0;34m\u001b[0m\u001b[0m\n\u001b[1;32m    200\u001b[0m                     \u001b[0mfirst_word\u001b[0m \u001b[0;34m=\u001b[0m \u001b[0mtitle\u001b[0m\u001b[0;34m.\u001b[0m\u001b[0msplit\u001b[0m\u001b[0;34m(\u001b[0m\u001b[0;32mNone\u001b[0m\u001b[0;34m,\u001b[0m \u001b[0;36m1\u001b[0m\u001b[0;34m)\u001b[0m\u001b[0;34m[\u001b[0m\u001b[0;36m0\u001b[0m\u001b[0;34m]\u001b[0m\u001b[0;34m\u001b[0m\u001b[0;34m\u001b[0m\u001b[0m\n",
      "\u001b[0;32m~/miniconda3/envs/r2t/lib/python3.10/site-packages/Bio/SeqIO/FastaIO.py\u001b[0m in \u001b[0;36mSimpleFastaParser\u001b[0;34m(handle)\u001b[0m\n\u001b[1;32m     58\u001b[0m     \u001b[0;31m# when not opened in universal read lines mode)\u001b[0m\u001b[0;34m\u001b[0m\u001b[0;34m\u001b[0m\u001b[0m\n\u001b[1;32m     59\u001b[0m     \u001b[0mlines\u001b[0m \u001b[0;34m=\u001b[0m \u001b[0;34m[\u001b[0m\u001b[0;34m]\u001b[0m\u001b[0;34m\u001b[0m\u001b[0;34m\u001b[0m\u001b[0m\n\u001b[0;32m---> 60\u001b[0;31m     \u001b[0;32mfor\u001b[0m \u001b[0mline\u001b[0m \u001b[0;32min\u001b[0m \u001b[0mhandle\u001b[0m\u001b[0;34m:\u001b[0m\u001b[0;34m\u001b[0m\u001b[0;34m\u001b[0m\u001b[0m\n\u001b[0m\u001b[1;32m     61\u001b[0m         \u001b[0;32mif\u001b[0m \u001b[0mline\u001b[0m\u001b[0;34m[\u001b[0m\u001b[0;36m0\u001b[0m\u001b[0;34m]\u001b[0m \u001b[0;34m==\u001b[0m \u001b[0;34m\">\"\u001b[0m\u001b[0;34m:\u001b[0m\u001b[0;34m\u001b[0m\u001b[0;34m\u001b[0m\u001b[0m\n\u001b[1;32m     62\u001b[0m             \u001b[0;32myield\u001b[0m \u001b[0mtitle\u001b[0m\u001b[0;34m,\u001b[0m \u001b[0;34m\"\"\u001b[0m\u001b[0;34m.\u001b[0m\u001b[0mjoin\u001b[0m\u001b[0;34m(\u001b[0m\u001b[0mlines\u001b[0m\u001b[0;34m)\u001b[0m\u001b[0;34m.\u001b[0m\u001b[0mreplace\u001b[0m\u001b[0;34m(\u001b[0m\u001b[0;34m\" \"\u001b[0m\u001b[0;34m,\u001b[0m \u001b[0;34m\"\"\u001b[0m\u001b[0;34m)\u001b[0m\u001b[0;34m.\u001b[0m\u001b[0mreplace\u001b[0m\u001b[0;34m(\u001b[0m\u001b[0;34m\"\\r\"\u001b[0m\u001b[0;34m,\u001b[0m \u001b[0;34m\"\"\u001b[0m\u001b[0;34m)\u001b[0m\u001b[0;34m\u001b[0m\u001b[0;34m\u001b[0m\u001b[0m\n",
      "\u001b[0;31mOSError\u001b[0m: [Errno 5] Input/output error"
     ]
    }
   ],
   "source": [
    "out = {'idist':[], 'species':[], 'coverage':[], 'tech':[], 'qmark':[], 'xmark': [], 'dmark':[], 'slen':[], 'mlen':[], 'mlen_r_slen':[], 'mlen_r_avgmlen':[], 'mlen_average':[]}\n",
    "for sp in species:\n",
    "    sp_folder = os.path.join(base_folder, sp, 'like_shen')\n",
    "    for align in tqdm(glob.glob(os.path.join(sp_folder, '07*'))):\n",
    "        alignment = os.path.join(align, 'alignment.aln')\n",
    "        file_name = os.path.basename(align).split('_')\n",
    "        idist = int(file_name[3])\n",
    "        tech = file_name[4][0:3]\n",
    "        cov = coverage[file_name[4][3:]]\n",
    "        alignment = AlignIO.read(alignment, 'fasta')\n",
    "        seq_id = '_'.join([str(idist), tech])\n",
    "#         print(seq_id)\n",
    "        qmarks, xmarks, dmarks, slens, mlens = [], [], [], [], []\n",
    "        for r in alignment:\n",
    "            if seq_id in r.id:\n",
    "                qmark = 0\n",
    "                if r.seq.count('?'):\n",
    "                    qmark = r.seq.count('?')  \n",
    "                xmark = r.seq.count('X')\n",
    "                dmark = r.seq.count('-')\n",
    "                slen = len(r.seq)\n",
    "                mlen = slen - qmark - xmark - dmark\n",
    "                mlen_ratio = mlen / slen\n",
    "            else:\n",
    "#                 qmarks.append(r.seq.count('?'))\n",
    "#                 if not qmark:\n",
    "#                     qmark = 0\n",
    "#                 xmarks.append(r.seq.count('X'))\n",
    "#                 dmarks.append(r.seq.count('-'))\n",
    "#                 slens.append(len(r.seq))\n",
    "                mlens.append(len(r.seq) - r.seq.count('?') - r.seq.count('X') - r.seq.count('-'))\n",
    "        mlen_average = np.mean(mlens)\n",
    "        out['idist'].append(idist)\n",
    "        out['species'].append(sp)\n",
    "        out['coverage'].append(cov)\n",
    "        out['tech'].append(tech)\n",
    "        out['qmark'].append(qmark)\n",
    "        out['xmark'].append(xmark)\n",
    "        out['dmark'].append(dmark)\n",
    "        out['slen'].append(slen)\n",
    "        out['mlen'].append(mlen)\n",
    "        out['mlen_r_slen'].append(mlen_ratio)\n",
    "        out['mlen_r_avgmlen'].append(mlen/mlen_average)\n",
    "        out['mlen_average'].append(mlen_average)\n",
    "        "
   ]
  },
  {
   "cell_type": "code",
   "execution_count": null,
   "metadata": {
    "scrolled": true
   },
   "outputs": [],
   "source": [
    "df_r2t = pd.DataFrame(out)\n",
    "df_r2t['method'] = 'r2t'\n",
    "# df.to_csv('/Users/daviddylus/Projects/r2t/benchmark/blast/r2t_concat_alignments_like_shen.csv')\n",
    "# df"
   ]
  },
  {
   "cell_type": "code",
   "execution_count": null,
   "metadata": {},
   "outputs": [],
   "source": [
    "df_r2t.to_csv('/Users/daviddylus/Projects/r2t/benchmark/blast/r2t_concat_alignments_like_shen.csv')"
   ]
  },
  {
   "cell_type": "code",
   "execution_count": null,
   "metadata": {},
   "outputs": [],
   "source": [
    "'''\n",
    "/Users/daviddylus/mnt/axiom/assemblies_to_oma/arath/10X/ill/OMA_0/like_shen\n",
    "/Users/daviddylus/mnt/wally/r2t/assemblies/yeast/10X/ill/OMA_0/like_shen\n",
    "'''\n",
    "assem_folders = {'yeast': '/Volumes/RECHERCHE/FAC/FBM/DBC/cdessim2/read2tree/D2c/wally/r2t/assemblies/yeast/',\n",
    "                'mouse': '/Volumes/RECHERCHE/FAC/FBM/DBC/cdessim2/read2tree/D2c/assemblies_to_oma/mouse/',\n",
    "                'arath': '/Volumes/RECHERCHE/FAC/FBM/DBC/cdessim2/read2tree/D2c/assemblies_to_oma/arath/'}\n",
    "#assem_folder = '/Users/daviddylus/mnt/wally/arath/20X/scratch/temporary/ddylus/assemblies_to_oma/arath/20X/'\n",
    "technologies = ['ill', 'ont', 'pac']\n",
    "out = {'idist':[], 'species':[], 'coverage':[], 'tech':[], 'qmark':[], 'xmark': [], 'dmark':[], 'slen':[], 'mlen':[], 'mlen_r_slen':[], 'mlen_r_avgmlen':[], 'mlen_average':[]}\n"
   ]
  },
  {
   "cell_type": "code",
   "execution_count": null,
   "metadata": {},
   "outputs": [],
   "source": [
    "for de, assem_folder in assem_folders.items():\n",
    "    if 'mouse' in de:\n",
    "        all_alingments = glob.glob('/Volumes/RECHERCHE/FAC/FBM/DBC/cdessim2/read2tree/D2c/assemblies_to_oma/mouse/*/*/OMA_*/like_shen/alignment.aln')\n",
    "        for align in tqdm(all_alingments):\n",
    "            print(align)\n",
    "            file_name = align.split('/')\n",
    "            idist = int(file_name[13].split('_')[-1])\n",
    "            tech = file_name[11]\n",
    "            cov = float(file_name[12].rstrip('X'))\n",
    "            seq_id = de.upper()\n",
    "            species = de\n",
    "            mlens = []\n",
    "#             if not (idist in out['idist'] and tech in out['tech'] and cov in out['coverage'] and species in out['species']):\n",
    "            alignment = AlignIO.read(align, 'fasta')\n",
    "            for r in alignment:\n",
    "                if seq_id in r.id:\n",
    "                    qmark = r.seq.count('?')\n",
    "                    if not qmark:\n",
    "                        qmark = 0\n",
    "                    xmark = r.seq.count('X')\n",
    "                    dmark = r.seq.count('-')\n",
    "                    slen = len(r.seq)\n",
    "                    mlen = slen - qmark - xmark - dmark\n",
    "                    mlen_ratio = mlen / slen\n",
    "                else:\n",
    "    #                 qmarks.append(r.seq.count('?'))\n",
    "    #                 if not qmark:\n",
    "    #                     qmark = 0\n",
    "    #                 xmarks.append(r.seq.count('X'))\n",
    "    #                 dmarks.append(r.seq.count('-'))\n",
    "    #                 slens.append(len(r.seq))\n",
    "                    mlens.append(len(r.seq) - r.seq.count('?') - r.seq.count('X') - r.seq.count('-'))\n",
    "            mlen_average = np.mean(mlens)\n",
    "            out['idist'].append(idist)\n",
    "            out['species'].append(species)\n",
    "            out['coverage'].append(cov)\n",
    "            out['tech'].append(tech)\n",
    "            out['qmark'].append(qmark)\n",
    "            out['xmark'].append(xmark)\n",
    "            out['dmark'].append(dmark)\n",
    "            out['slen'].append(slen)\n",
    "            out['mlen'].append(mlen)\n",
    "            out['mlen_r_slen'].append(mlen_ratio)\n",
    "            out['mlen_r_avgmlen'].append(mlen/mlen_average)\n",
    "            out['mlen_average'].append(mlen_average)\n",
    "    else:\n",
    "        all_alingments = glob.glob(assem_folder+'/*/*/OMA_*/like_shen/alignment.aln')\n",
    "        for align in tqdm(all_alingments):\n",
    "            print(align)\n",
    "            if 'yeast' in de:\n",
    "                file_name = align.split('/')\n",
    "                idist = int(file_name[15].split('_')[-1])\n",
    "                tech = file_name[14]\n",
    "                cov = float(file_name[13].rstrip('X'))\n",
    "                seq_id = de.upper()\n",
    "                species = de\n",
    "                mlens = []\n",
    "            else:\n",
    "                file_name = align.split('/')\n",
    "                idist = int(file_name[13].split('_')[-1])\n",
    "                tech = file_name[12]\n",
    "                cov = float(file_name[11].rstrip('X'))\n",
    "                seq_id = de.upper()\n",
    "                species = de\n",
    "                mlens = []\n",
    "#             if not (idist in out['idist'] and tech in out['tech'] and cov in out['coverage'] and species in out['species']):\n",
    "            if os.path.getsize(align) > 0:\n",
    "                try:\n",
    "                    alignment = AlignIO.read(align, 'fasta')\n",
    "                except ValueError:\n",
    "                    alignment = AlignIO.read(align, 'phylip-relaxed')\n",
    "                key_record = None\n",
    "                for r in alignment:\n",
    "                    if seq_id in r.id:\n",
    "                        key_record = r\n",
    "                    else:\n",
    "                        mlens.append(len(r.seq) - r.seq.count('?') - r.seq.count('X') - r.seq.count('-'))\n",
    "\n",
    "                if key_record:\n",
    "                    qmark = r.seq.count('?')\n",
    "                    if not qmark:\n",
    "                        qmark = 0\n",
    "                    xmark = r.seq.count('X')\n",
    "                    dmark = r.seq.count('-')\n",
    "                    slen = len(r.seq)\n",
    "                    mlen = slen - qmark - xmark - dmark\n",
    "                    mlen_ratio = mlen / slen\n",
    "                else:\n",
    "                    qmark = 0\n",
    "                    xmark = 0\n",
    "                    dmark = 0\n",
    "                    slen = 0\n",
    "                    mlen = slen - qmark - xmark - dmark\n",
    "                    mlen_ratio = 0\n",
    "\n",
    "                mlen_average = np.mean(mlens)\n",
    "                out['idist'].append(idist)\n",
    "                out['species'].append(species)\n",
    "                out['coverage'].append(cov)\n",
    "                out['tech'].append(tech)\n",
    "                out['qmark'].append(qmark)\n",
    "                out['xmark'].append(xmark)\n",
    "                out['dmark'].append(dmark)\n",
    "                out['slen'].append(slen)\n",
    "                out['mlen'].append(mlen)\n",
    "                out['mlen_r_slen'].append(mlen_ratio)\n",
    "                out['mlen_r_avgmlen'].append(mlen/mlen_average)\n",
    "                out['mlen_average'].append(mlen_average)"
   ]
  },
  {
   "cell_type": "code",
   "execution_count": null,
   "metadata": {},
   "outputs": [],
   "source": [
    "df_assem = pd.DataFrame(out)\n",
    "df_assem.head()"
   ]
  },
  {
   "cell_type": "code",
   "execution_count": null,
   "metadata": {},
   "outputs": [],
   "source": [
    "# df_assem = pd.DataFrame(out)\n",
    "#df['method'] = 'assembly'\n",
    "df_r2t['slen'].hist()"
   ]
  },
  {
   "cell_type": "code",
   "execution_count": null,
   "metadata": {},
   "outputs": [],
   "source": [
    "# df_assem = pd.DataFrame(out)\n",
    "df_assem['method'] = 'assembly'\n",
    "df_assem['slen'].hist()\n"
   ]
  },
  {
   "cell_type": "code",
   "execution_count": null,
   "metadata": {},
   "outputs": [],
   "source": [
    "df_assem.to_csv('/Users/daviddylus/Projects/r2t/benchmark/blast/assem_concat_alignments_like_shen.csv')\n",
    "# df_r2t.to_csv('/Users/daviddylus/Projects/r2t/benchmark/blast/assem_concat_alignments_like_shen.csv')"
   ]
  },
  {
   "cell_type": "code",
   "execution_count": null,
   "metadata": {},
   "outputs": [],
   "source": [
    "df_assem[(df_assem.species == 'arath') & (df_assem.tech == 'ont')]"
   ]
  },
  {
   "cell_type": "code",
   "execution_count": null,
   "metadata": {},
   "outputs": [],
   "source": [
    "df_merge = pd.concat([df_r2t, df_assem])"
   ]
  },
  {
   "cell_type": "code",
   "execution_count": null,
   "metadata": {},
   "outputs": [],
   "source": [
    "df_merge"
   ]
  },
  {
   "cell_type": "code",
   "execution_count": null,
   "metadata": {},
   "outputs": [],
   "source": [
    "df_merge.to_csv('/Users/daviddylus/Projects/r2t/benchmark/blast/r2t+assem_concat_alignments_like_shen.csv')"
   ]
  },
  {
   "cell_type": "code",
   "execution_count": null,
   "metadata": {},
   "outputs": [],
   "source": []
  }
 ],
 "metadata": {
  "kernelspec": {
   "display_name": "Python 3 (ipykernel)",
   "language": "python",
   "name": "python3"
  },
  "language_info": {
   "codemirror_mode": {
    "name": "ipython",
    "version": 3
   },
   "file_extension": ".py",
   "mimetype": "text/x-python",
   "name": "python",
   "nbconvert_exporter": "python",
   "pygments_lexer": "ipython3",
   "version": "3.10.0"
  },
  "toc": {
   "base_numbering": 1,
   "nav_menu": {},
   "number_sections": true,
   "sideBar": true,
   "skip_h1_title": false,
   "title_cell": "Table of Contents",
   "title_sidebar": "Contents",
   "toc_cell": false,
   "toc_position": {},
   "toc_section_display": true,
   "toc_window_display": false
  }
 },
 "nbformat": 4,
 "nbformat_minor": 2
}
