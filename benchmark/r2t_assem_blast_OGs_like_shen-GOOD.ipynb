{
 "cells": [
  {
   "cell_type": "code",
   "execution_count": 33,
   "metadata": {},
   "outputs": [],
   "source": [
    "import pandas as pd\n",
    "import numpy as np\n",
    "import os, glob, tqdm\n",
    "from Bio import AlignIO, SeqIO\n",
    "from scipy.spatial import distance\n",
    "from matplotlib import rc\n",
    "from tqdm.notebook import trange, tqdm\n",
    "\n",
    "%matplotlib inline\n",
    "\n",
    "# The following %config line changes the inline figures to have a higher DPI.\n",
    "# You can comment out (#) this line if you don't have a high-DPI (~220) display.\n",
    "%config InlineBackend.figure_format = 'retina'\n",
    "# Set the global font to be DejaVu Sans, size 10 (or any other sans-serif font of your choice!)\n",
    "rc('font',**{'family':'sans-serif','sans-serif':['DejaVu Sans'],'size':12})\n",
    "coverage = {'02X':0.2, '05X':0.5, '07X':0.5,'1X':1, '5X':5, '10X':10, '20X':20}\n",
    "tech = {'ont':'ONT', 'nan': 'ONT', 'pac':'PacBIO', 'ill': 'Illumina', np.nan:'ONT'}\n",
    "spe = {'arath': 'A. thaliana', 'yeast':'S. cerevisiae', 'mouse':'M. musculus'}\n",
    "\n",
    "# df = pd.read_csv('/Users/daviddylus/projects/r2t/benchmark/r2t_align/r2t+assem_concat_alignments_blast.csv')\n",
    "# df.head()\n",
    "moused = pd.read_csv(\"/Users/daviddylus/Projects/r2t/benchmark/blast/seq_bins/mouse_sp_removal_bin2.csv\")\n",
    "moused['species'] = 'M. musculus'\n",
    "yeastd = pd.read_csv(\"/Users/daviddylus/Projects/r2t/benchmark/blast/seq_bins/yeast_sp_removal_bin2.csv\")\n",
    "yeastd['species'] = 'S. cerevisiae'\n",
    "arathd = pd.read_csv(\"/Users/daviddylus/Projects/r2t/benchmark/blast/seq_bins/arath_sp_removal_bin2.csv\")\n",
    "arathd['species'] = 'A. thaliana'\n",
    "datad = pd.concat([moused, yeastd,arathd])\n",
    "datad = datad.reset_index()"
   ]
  },
  {
   "cell_type": "code",
   "execution_count": 34,
   "metadata": {},
   "outputs": [
    {
     "data": {
      "text/html": [
       "<div>\n",
       "<style scoped>\n",
       "    .dataframe tbody tr th:only-of-type {\n",
       "        vertical-align: middle;\n",
       "    }\n",
       "\n",
       "    .dataframe tbody tr th {\n",
       "        vertical-align: top;\n",
       "    }\n",
       "\n",
       "    .dataframe thead th {\n",
       "        text-align: right;\n",
       "    }\n",
       "</style>\n",
       "<table border=\"1\" class=\"dataframe\">\n",
       "  <thead>\n",
       "    <tr style=\"text-align: right;\">\n",
       "      <th></th>\n",
       "      <th>species</th>\n",
       "      <th>tech</th>\n",
       "      <th>cov</th>\n",
       "      <th>dist</th>\n",
       "      <th>ogs</th>\n",
       "    </tr>\n",
       "  </thead>\n",
       "  <tbody>\n",
       "    <tr>\n",
       "      <th>0</th>\n",
       "      <td>M. musculus</td>\n",
       "      <td>Illumina</td>\n",
       "      <td>0.2</td>\n",
       "      <td>0</td>\n",
       "      <td>OG10358</td>\n",
       "    </tr>\n",
       "    <tr>\n",
       "      <th>1</th>\n",
       "      <td>M. musculus</td>\n",
       "      <td>Illumina</td>\n",
       "      <td>0.2</td>\n",
       "      <td>0</td>\n",
       "      <td>OG10375</td>\n",
       "    </tr>\n",
       "    <tr>\n",
       "      <th>2</th>\n",
       "      <td>M. musculus</td>\n",
       "      <td>Illumina</td>\n",
       "      <td>0.2</td>\n",
       "      <td>0</td>\n",
       "      <td>OG10428</td>\n",
       "    </tr>\n",
       "    <tr>\n",
       "      <th>3</th>\n",
       "      <td>M. musculus</td>\n",
       "      <td>Illumina</td>\n",
       "      <td>0.2</td>\n",
       "      <td>0</td>\n",
       "      <td>OG11229</td>\n",
       "    </tr>\n",
       "    <tr>\n",
       "      <th>4</th>\n",
       "      <td>M. musculus</td>\n",
       "      <td>Illumina</td>\n",
       "      <td>0.2</td>\n",
       "      <td>0</td>\n",
       "      <td>OG11810</td>\n",
       "    </tr>\n",
       "    <tr>\n",
       "      <th>...</th>\n",
       "      <td>...</td>\n",
       "      <td>...</td>\n",
       "      <td>...</td>\n",
       "      <td>...</td>\n",
       "      <td>...</td>\n",
       "    </tr>\n",
       "    <tr>\n",
       "      <th>2520</th>\n",
       "      <td>S. cerevisiae</td>\n",
       "      <td>PacBIO</td>\n",
       "      <td>5.0</td>\n",
       "      <td>3</td>\n",
       "      <td>OG768685</td>\n",
       "    </tr>\n",
       "    <tr>\n",
       "      <th>2521</th>\n",
       "      <td>S. cerevisiae</td>\n",
       "      <td>PacBIO</td>\n",
       "      <td>5.0</td>\n",
       "      <td>3</td>\n",
       "      <td>OG840319</td>\n",
       "    </tr>\n",
       "    <tr>\n",
       "      <th>2522</th>\n",
       "      <td>S. cerevisiae</td>\n",
       "      <td>PacBIO</td>\n",
       "      <td>5.0</td>\n",
       "      <td>3</td>\n",
       "      <td>OG762765</td>\n",
       "    </tr>\n",
       "    <tr>\n",
       "      <th>2523</th>\n",
       "      <td>S. cerevisiae</td>\n",
       "      <td>PacBIO</td>\n",
       "      <td>5.0</td>\n",
       "      <td>3</td>\n",
       "      <td>OG555588</td>\n",
       "    </tr>\n",
       "    <tr>\n",
       "      <th>2524</th>\n",
       "      <td>S. cerevisiae</td>\n",
       "      <td>PacBIO</td>\n",
       "      <td>5.0</td>\n",
       "      <td>3</td>\n",
       "      <td>OG836903</td>\n",
       "    </tr>\n",
       "  </tbody>\n",
       "</table>\n",
       "<p>40819 rows × 5 columns</p>\n",
       "</div>"
      ],
      "text/plain": [
       "            species      tech  cov dist       ogs\n",
       "0       M. musculus  Illumina  0.2    0   OG10358\n",
       "1       M. musculus  Illumina  0.2    0   OG10375\n",
       "2       M. musculus  Illumina  0.2    0   OG10428\n",
       "3       M. musculus  Illumina  0.2    0   OG11229\n",
       "4       M. musculus  Illumina  0.2    0   OG11810\n",
       "...             ...       ...  ...  ...       ...\n",
       "2520  S. cerevisiae    PacBIO  5.0    3  OG768685\n",
       "2521  S. cerevisiae    PacBIO  5.0    3  OG840319\n",
       "2522  S. cerevisiae    PacBIO  5.0    3  OG762765\n",
       "2523  S. cerevisiae    PacBIO  5.0    3  OG555588\n",
       "2524  S. cerevisiae    PacBIO  5.0    3  OG836903\n",
       "\n",
       "[40819 rows x 5 columns]"
      ]
     },
     "execution_count": 34,
     "metadata": {},
     "output_type": "execute_result"
    }
   ],
   "source": [
    "# Open the file with read only permit\n",
    "ogs_like_shen = pd.DataFrame()\n",
    "for f in glob.glob('/Users/daviddylus/Projects/r2t/benchmark/blast/r2t_like_shen/*all.txt'):\n",
    "    \n",
    "    sp = f.split('/')[-1].split('_')[0]\n",
    "    fopen = open(f, \"r\")\n",
    "    lines = fopen.readlines()\n",
    "    fopen.close()\n",
    "    dists = [i.split('_')[3] for i in lines]\n",
    "    techs = [tech[i.split('_')[4][0:3]] for i in lines]\n",
    "    covs = [coverage[i.split('_')[4][3:]] for i in lines]\n",
    "    ogs = [i.split('/')[-1].split('.')[0] for i in lines]\n",
    "    species = [spe[sp]]*len(ogs)\n",
    "    tmp = pd.DataFrame({'species':species, 'tech':techs, 'cov':covs, 'dist': dists, 'ogs': ogs})\n",
    "    ogs_like_shen = pd.concat([ogs_like_shen, tmp])\n",
    "ogs_like_shen"
   ]
  },
  {
   "cell_type": "code",
   "execution_count": 35,
   "metadata": {},
   "outputs": [
    {
     "data": {
      "text/plain": [
       "{'A. thaliana', 'M. musculus', 'S. cerevisiae'}"
      ]
     },
     "execution_count": 35,
     "metadata": {},
     "output_type": "execute_result"
    }
   ],
   "source": [
    "set(ogs_like_shen['species'])"
   ]
  },
  {
   "cell_type": "code",
   "execution_count": 36,
   "metadata": {},
   "outputs": [
    {
     "data": {
      "text/plain": [
       "0     OG10209\n",
       "1     OG10261\n",
       "2     OG10534\n",
       "3     OG11144\n",
       "4     OG11229\n",
       "5     OG11909\n",
       "6     OG12369\n",
       "7     OG12433\n",
       "8     OG12516\n",
       "9     OG12947\n",
       "10    OG13435\n",
       "11    OG14025\n",
       "12     OG1406\n",
       "13    OG15601\n",
       "14    OG16160\n",
       "15     OG1713\n",
       "16    OG17603\n",
       "17    OG17618\n",
       "18    OG18409\n",
       "19     OG1882\n",
       "20    OG19161\n",
       "21     OG2058\n",
       "22    OG22012\n",
       "23    OG24754\n",
       "24     OG2493\n",
       "25    OG26024\n",
       "26    OG26268\n",
       "27     OG2778\n",
       "28     OG2870\n",
       "29     OG2997\n",
       "30     OG3270\n",
       "31     OG3724\n",
       "32     OG4492\n",
       "33     OG4624\n",
       "34     OG4771\n",
       "35     OG6477\n",
       "36     OG6631\n",
       "37     OG7290\n",
       "38     OG7666\n",
       "39     OG8298\n",
       "40     OG8451\n",
       "41     OG8703\n",
       "42     OG9048\n",
       "43     OG9861\n",
       "Name: ogs, dtype: object"
      ]
     },
     "execution_count": 36,
     "metadata": {},
     "output_type": "execute_result"
    }
   ],
   "source": [
    "ogs_like_shen['ogs'][(ogs_like_shen['species']=='M. musculus') & (ogs_like_shen['dist']=='0') & (ogs_like_shen['cov']==0.2) & (ogs_like_shen['tech']=='PacBIO')]"
   ]
  },
  {
   "cell_type": "markdown",
   "metadata": {},
   "source": [
    "# R2T individually"
   ]
  },
  {
   "cell_type": "code",
   "execution_count": 37,
   "metadata": {},
   "outputs": [
    {
     "data": {
      "application/vnd.jupyter.widget-view+json": {
       "model_id": "3104b3641c9f401aa7f65e7a6cc0e9f5",
       "version_major": 2,
       "version_minor": 0
      },
      "text/plain": [
       "0it [00:00, ?it/s]"
      ]
     },
     "metadata": {},
     "output_type": "display_data"
    }
   ],
   "source": [
    "keep, drop = [], []\n",
    "for i,r in tqdm(datad.iterrows()):\n",
    "    sub_ogs = list(ogs_like_shen['ogs'][(ogs_like_shen['species']==r['species']) \n",
    "                                        & (ogs_like_shen['dist']==str(r['inode_dist'])) \n",
    "                                        & (ogs_like_shen['cov']==r['gcov']) \n",
    "                                        & (ogs_like_shen['tech']==r['meth'])])\n",
    "    \n",
    "    if r['og'] in sub_ogs:\n",
    "        keep.append(i)\n",
    "    else:\n",
    "        drop.append(i)\n",
    "#     if 'S. cerevisiae' in r['species']:        \n",
    "#         print(sub_ogs, r['og'])\n",
    "#         break"
   ]
  },
  {
   "cell_type": "code",
   "execution_count": 40,
   "metadata": {},
   "outputs": [],
   "source": [
    "datad.iloc[keep].to_csv('/Users/daviddylus/Projects/r2t/benchmark/blast/r2t_like_shen/r2t_blast_like_shen_individuals_from_original.csv', index=False)"
   ]
  },
  {
   "cell_type": "code",
   "execution_count": 42,
   "metadata": {},
   "outputs": [],
   "source": [
    "data_like_shen = datad.iloc[keep]"
   ]
  },
  {
   "cell_type": "code",
   "execution_count": null,
   "metadata": {},
   "outputs": [],
   "source": [
    "out = {'species':[], 'idist': [], 'tech': [], 'coverage':[], 'evalue':[], 'evalue_stdev':[], 'pident':[], 'scale_pident':[], \n",
    "        'pident_stdev':[]}\n",
    "\n",
    "for f in tqdm(data_like_shen.iterrows()):\n",
    "    f_name = os.path.basename(f).split('.')[0].split('_')\n",
    "    if os.path.exists(f) and os.path.getsize(f) > 0:\n",
    "        df = pd.read_csv(f)\n",
    "        df['og'] = [r['qseqid'].split('_')[-1] for i,r in df.iterrows()]\n",
    "        og_list = list(ogs_like_shen[(ogs_like_shen['species']==spe[f_name[0]]) & (ogs_like_shen['dist']==f_name[1]) & (ogs_like_shen['cov']==coverage[f_name[2][3:]]) & (ogs_like_shen['tech']==tech[f_name[2][0:3]])]['ogs'])\n",
    "        df = df[~df['og'].isin(og_list)]\n",
    "        pident, scale_pident, evalue = [], [], []\n",
    "        for query in set(df.qseqid):\n",
    "            df_sub = df.loc[df.qseqid==query]\n",
    "            df_sub = df_sub.loc[df_sub['pident'].idxmax()]\n",
    "            pident.append(df_sub.pident)\n",
    "            scale_pident.append(df_sub.pident*(df_sub.length/df_sub.qlen))\n",
    "            evalue.append(df_sub.evalue)\n",
    "\n",
    "        out['species'].append(spe[f_name[0]])\n",
    "        out['idist'].append(f_name[1])\n",
    "        out['tech'].append(tech[f_name[2][0:3]])\n",
    "        out['coverage'].append(coverage[f_name[2][3:]])\n",
    "        out['evalue'].append(np.mean(evalue))\n",
    "        out['evalue_stdev'].append(np.std(evalue))\n",
    "        out['pident'].append(np.mean(pident))\n",
    "        out['pident_stdev'].append(np.std(pident))\n",
    "        out['scale_pident'].append(np.mean(scale_pident))\n",
    "    else:\n",
    "        out['species'].append(spe[f_name[0]])\n",
    "        out['idist'].append(f_name[1])\n",
    "        out['tech'].append(tech[f_name[2][0:3]])\n",
    "        out['coverage'].append(coverage[f_name[2][3:]])\n",
    "        out['evalue'].append(np.nan)\n",
    "        out['evalue_stdev'].append(np.nan)\n",
    "        out['pident'].append(np.nan)\n",
    "        out['pident_stdev'].append(np.nan)\n",
    "        out['scale_pident'].append(np.nan)"
   ]
  }
 ],
 "metadata": {
  "kernelspec": {
   "display_name": "Python 3 (ipykernel)",
   "language": "python",
   "name": "python3"
  },
  "language_info": {
   "codemirror_mode": {
    "name": "ipython",
    "version": 3
   },
   "file_extension": ".py",
   "mimetype": "text/x-python",
   "name": "python",
   "nbconvert_exporter": "python",
   "pygments_lexer": "ipython3",
   "version": "3.10.0"
  },
  "toc": {
   "base_numbering": 1,
   "nav_menu": {},
   "number_sections": true,
   "sideBar": true,
   "skip_h1_title": false,
   "title_cell": "Table of Contents",
   "title_sidebar": "Contents",
   "toc_cell": false,
   "toc_position": {},
   "toc_section_display": true,
   "toc_window_display": true
  }
 },
 "nbformat": 4,
 "nbformat_minor": 2
}
